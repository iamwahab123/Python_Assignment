{
 "cells": [
  {
   "cell_type": "code",
   "execution_count": 1,
   "metadata": {
    "collapsed": true
   },
   "outputs": [
    {
     "name": "stdout",
     "output_type": "stream",
     "text": [
      " Twinkle, twinkle, little star,\n",
      "        How I wonder what you are!\n",
      "             Up above the world so high,\n",
      "             Like a diamond in the sky.  \n",
      " Twinkle, twinkle, little star,\n",
      "         How I wonder what you are\n"
     ]
    }
   ],
   "source": [
    "a=\" Twinkle, twinkle, little star,\"\n",
    "b=\"        How I wonder what you are!\"\n",
    "c=\"             Up above the world so high,\"        \n",
    "d=\"             Like a diamond in the sky.  \"\n",
    "e=\" Twinkle, twinkle, little star,\"   \n",
    "f=\"         How I wonder what you are\"\n",
    "print(a)\n",
    "print(b)\n",
    "print(c)\n",
    "print(d)\n",
    "print(e)\n",
    "print(f)\n"
   ]
  },
  {
   "cell_type": "code",
   "execution_count": 7,
   "metadata": {},
   "outputs": [
    {
     "name": "stdout",
     "output_type": "stream",
     "text": [
      "         Twinkle, twinkle, little star,\n",
      "   How I wonder what you are!\n",
      "          Up above the world so high,\n",
      "    Like a diamond in the sky.  \n",
      "       Twinkle, twinkle, little star,\n",
      "            How I wonder what you are\n"
     ]
    }
   ],
   "source": [
    "print(\"         Twinkle, twinkle, little star,\")\n",
    "print(\"   How I wonder what you are!\")\n",
    "print(\"          Up above the world so high,\")       \n",
    "print(\"    Like a diamond in the sky.  \")\n",
    "print(\"       Twinkle, twinkle, little star,\")  \n",
    "print(\"            How I wonder what you are\")"
   ]
  },
  {
   "cell_type": "code",
   "execution_count": 1,
   "metadata": {},
   "outputs": [
    {
     "name": "stdout",
     "output_type": "stream",
     "text": [
      "3.7.4\n"
     ]
    }
   ],
   "source": [
    "import platform\n",
    "print(platform.python_version())"
   ]
  },
  {
   "cell_type": "code",
   "execution_count": 9,
   "metadata": {},
   "outputs": [
    {
     "name": "stdout",
     "output_type": "stream",
     "text": [
      "Curent Date and Time is : 2019-11-03 11:15:47.667870\n"
     ]
    }
   ],
   "source": [
    "import datetime\n",
    "\n",
    "x = datetime.datetime.now()\n",
    "print(\"Curent Date and Time is :\",x)"
   ]
  },
  {
   "cell_type": "code",
   "execution_count": 2,
   "metadata": {},
   "outputs": [
    {
     "name": "stdout",
     "output_type": "stream",
     "text": [
      "Youur First Namewahab\n",
      "Youur Last Namezada\n"
     ]
    }
   ],
   "source": [
    "a=input(\"Youur First Name\")\n",
    "b=input(\"Youur Last Name\")\n"
   ]
  },
  {
   "cell_type": "code",
   "execution_count": 7,
   "metadata": {},
   "outputs": [
    {
     "name": "stdout",
     "output_type": "stream",
     "text": [
      "enter first num:22\n",
      "enter secound num:11\n",
      "answer = 33\n"
     ]
    }
   ],
   "source": [
    "a=int(input(\"enter first num:\"))\n",
    "b=int(input(\"enter secound num:\"))\n",
    "c= a + b\n",
    "print(\"answer =\",c)"
   ]
  },
  {
   "cell_type": "code",
   "execution_count": 8,
   "metadata": {},
   "outputs": [
    {
     "name": "stdout",
     "output_type": "stream",
     "text": [
      "enter the radious22\n",
      "the radius of cirlce of given radius is : 1521\n"
     ]
    }
   ],
   "source": [
    "rad=int(input(\"enter the radious\"))\n",
    "are=int(22/7*rad*rad)\n",
    "print(\"the radius of cirlce of given radius is :\",are)"
   ]
  },
  {
   "cell_type": "code",
   "execution_count": null,
   "metadata": {},
   "outputs": [],
   "source": [
    "nam =input(\"enter first Name:\")\n",
    "lnam =input(\"enter Last Name:\")\n",
    "print(lnam,nam)\n"
   ]
  },
  {
   "cell_type": "code",
   "execution_count": null,
   "metadata": {},
   "outputs": [],
   "source": []
  }
 ],
 "metadata": {
  "kernelspec": {
   "display_name": "Python 3",
   "language": "python",
   "name": "python3"
  },
  "language_info": {
   "codemirror_mode": {
    "name": "ipython",
    "version": 3
   },
   "file_extension": ".py",
   "mimetype": "text/x-python",
   "name": "python",
   "nbconvert_exporter": "python",
   "pygments_lexer": "ipython3",
   "version": "3.7.4"
  }
 },
 "nbformat": 4,
 "nbformat_minor": 2
}
