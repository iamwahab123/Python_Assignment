{
 "cells": [
  {
   "cell_type": "code",
   "execution_count": 6,
   "metadata": {},
   "outputs": [
    {
     "name": "stdout",
     "output_type": "stream",
     "text": [
      "enter english marks :55\n",
      "enter maths marks :66\n",
      "Enter science marks :7\n",
      "enter urdu marks :78\n",
      "enter computer marks :99\n",
      "Obtaid Marks 305\n",
      "Percentage : 61.0\n",
      "B Grade\n"
     ]
    }
   ],
   "source": [
    "eng=int(input(\"enter english marks :\"))\n",
    "mat=int(input(\"enter maths marks :\"))\n",
    "sci=int(input(\"Enter science marks :\"))\n",
    "urd=int(input(\"enter urdu marks :\"))\n",
    "com=int(input(\"enter computer marks :\"))\n",
    "tot=eng+mat+sci+urd+com\n",
    "print(\"Obtaid Marks\",tot)\n",
    "per=(tot/500)*100;\n",
    "print(\"Percentage :\",per)\n",
    "if(per>=80 and per<=100):\n",
    "    print(\"A+ Grade\")\n",
    "if(per>=70 and per<=79):\n",
    "    print(\"A Grade\")\n",
    "if(per>=60 and per<=69):\n",
    "    print(\"B Grade\")\n",
    "if(per>=50 and per<=59):\n",
    "    print(\"C Grade\")\n",
    "if(per>=40 and per<=49):\n",
    "    print(\"D Grade\")\n",
    "if(per>=0 and per<39):\n",
    "    print(\"FAIL\")"
   ]
  },
  {
   "cell_type": "code",
   "execution_count": 5,
   "metadata": {},
   "outputs": [
    {
     "name": "stdout",
     "output_type": "stream",
     "text": [
      "Enter Any Number1\n",
      "Number Is Odd\n"
     ]
    }
   ],
   "source": [
    "a=int(input(\"Enter Any Number\"))\n",
    "if(a%2==0):\n",
    "   print(\"Number Is Even\")\n",
    "elif(a%2!=0):\n",
    "    print(\"Number Is Odd\")"
   ]
  },
  {
   "cell_type": "code",
   "execution_count": 9,
   "metadata": {},
   "outputs": [
    {
     "name": "stdout",
     "output_type": "stream",
     "text": [
      "print lenght of list is : 5\n"
     ]
    }
   ],
   "source": [
    "arr=[\"wahab\",\"zada\",\"is\",\"my\",\"Name\"]\n",
    "print(\"print lenght of list is :\",len(arr))"
   ]
  },
  {
   "cell_type": "code",
   "execution_count": 16,
   "metadata": {},
   "outputs": [
    {
     "name": "stdout",
     "output_type": "stream",
     "text": [
      "50\n"
     ]
    }
   ],
   "source": [
    "arr=[1,2,3,44]\n",
    "add=arr[0]+arr[1]+arr[2]+arr[3]\n",
    "print(add)"
   ]
  },
  {
   "cell_type": "code",
   "execution_count": 19,
   "metadata": {},
   "outputs": [
    {
     "name": "stdout",
     "output_type": "stream",
     "text": [
      "largest Number is : 88\n"
     ]
    }
   ],
   "source": [
    "arr=[1,3,4,6,88,77,55,81]\n",
    "print(\"largest Number is :\",max(arr))"
   ]
  },
  {
   "cell_type": "code",
   "execution_count": 22,
   "metadata": {},
   "outputs": [
    {
     "name": "stdout",
     "output_type": "stream",
     "text": [
      "[1, 1, 2, 3]\n"
     ]
    }
   ],
   "source": [
    "arr = [1, 1, 2, 3, 5, 8, 13, 21, 34, 55, 89]\n",
    "b=arr[:4]\n",
    "print(b)"
   ]
  },
  {
   "cell_type": "code",
   "execution_count": null,
   "metadata": {},
   "outputs": [],
   "source": []
  }
 ],
 "metadata": {
  "kernelspec": {
   "display_name": "Python 3",
   "language": "python",
   "name": "python3"
  },
  "language_info": {
   "codemirror_mode": {
    "name": "ipython",
    "version": 3
   },
   "file_extension": ".py",
   "mimetype": "text/x-python",
   "name": "python",
   "nbconvert_exporter": "python",
   "pygments_lexer": "ipython3",
   "version": "3.7.4"
  }
 },
 "nbformat": 4,
 "nbformat_minor": 2
}
