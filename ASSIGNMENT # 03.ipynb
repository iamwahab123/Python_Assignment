{
 "cells": [
  {
   "cell_type": "code",
   "execution_count": 1,
   "metadata": {},
   "outputs": [
    {
     "name": "stdout",
     "output_type": "stream",
     "text": [
      "Enter first value: 3\n",
      "Enter operator: **\n",
      "Enter second value: 4\n",
      "Final result:  81\n"
     ]
    }
   ],
   "source": [
    "val1= int(input(\"Enter first value: \"))\n",
    "operator=input(\"Enter operator: \")\n",
    "val2= int(input(\"Enter second value: \"))\n",
    "if operator==\"+\":\n",
    "    res=val1+val2\n",
    "    print(\"Final result is: \",res)\n",
    "if operator==\"-\":\n",
    "    res=val1-val2\n",
    "    print(\"Final result is: \",res)\n",
    "if operator==\"*\":\n",
    "    res=val1*val2\n",
    "    print(\"Final result is: \",res)\n",
    "if operator==\"/\":\n",
    "    res=val1//val2\n",
    "    print(\"Final result is: \",res)\n",
    "if operator==\"**\":\n",
    "    res = val1 ** val2\n",
    "    print(\"Final result: \",res)\n",
    "    "
   ]
  },
  {
   "cell_type": "code",
   "execution_count": 2,
   "metadata": {},
   "outputs": [
    {
     "name": "stdout",
     "output_type": "stream",
     "text": [
      "{'Key': ''}\n"
     ]
    }
   ],
   "source": [
    "## I'm just adding key into an empty dictionary\n",
    "Dic = {}\n",
    "Dic [\"Key\"]=\"\"\n",
    "print(Dic)"
   ]
  },
  {
   "cell_type": "code",
   "execution_count": 22,
   "metadata": {},
   "outputs": [
    {
     "name": "stdout",
     "output_type": "stream",
     "text": [
      "Key doesn't exist\n"
     ]
    }
   ],
   "source": [
    "dic = { 'a':1,\n",
    "       'b': 2,\n",
    "       'c':3\n",
    "}\n",
    "if 'd' in dic.keys():\n",
    "    print(\"Key exists\")\n",
    "else:\n",
    "    print(\"Key doesn't exist\")"
   ]
  },
  {
   "cell_type": "code",
   "execution_count": 20,
   "metadata": {},
   "outputs": [
    {
     "name": "stdout",
     "output_type": "stream",
     "text": [
      "12\n"
     ]
    }
   ],
   "source": [
    "abc = {\n",
    "    \"value1\":2,\n",
    "    \"value2\":3,\n",
    "    \"value3\":7\n",
    "}\n",
    "print(sum(abc.values()))"
   ]
  },
  {
   "cell_type": "code",
   "execution_count": 23,
   "metadata": {},
   "outputs": [
    {
     "name": "stdout",
     "output_type": "stream",
     "text": [
      "1 is Numeric\n",
      "4 is Numeric\n",
      "19 is Numeric\n"
     ]
    }
   ],
   "source": [
    "ls = [\"1\",\"4\",\"19\",\"rayyan\",\"ali\"]\n",
    "for e in ls:\n",
    "    if e.isnumeric():\n",
    "        print(f'{e} is Numeric')"
   ]
  },
  {
   "cell_type": "code",
   "execution_count": 40,
   "metadata": {},
   "outputs": [
    {
     "name": "stdout",
     "output_type": "stream",
     "text": [
      "['1', '2', '3'] is duplicating\n"
     ]
    }
   ],
   "source": [
    "arr = ['1', '2', '3', '3', '2', '4', '1', '5']\n",
    "list_range=len(arr)\n",
    "repeated=[]\n",
    "for i in range(list_range):\n",
    "    a=i+1\n",
    "    for j in range(a,list_range):\n",
    "        if arr[i]==arr[j] and arr[i] not in repeated:\n",
    "            repeated.append(arr[i])\n",
    "print(repeated,\"is duplicating\")"
   ]
  },
  {
   "cell_type": "code",
   "execution_count": null,
   "metadata": {},
   "outputs": [],
   "source": []
  }
 ],
 "metadata": {
  "kernelspec": {
   "display_name": "Python 3",
   "language": "python",
   "name": "python3"
  },
  "language_info": {
   "codemirror_mode": {
    "name": "ipython",
    "version": 3
   },
   "file_extension": ".py",
   "mimetype": "text/x-python",
   "name": "python",
   "nbconvert_exporter": "python",
   "pygments_lexer": "ipython3",
   "version": "3.7.4"
  }
 },
 "nbformat": 4,
 "nbformat_minor": 2
}
